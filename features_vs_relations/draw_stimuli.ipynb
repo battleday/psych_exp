{
 "cells": [
  {
   "cell_type": "code",
   "execution_count": 1,
   "id": "573b062d",
   "metadata": {},
   "outputs": [],
   "source": [
    "%matplotlib inline \n",
    "import numpy as np\n",
    "import matplotlib.pyplot as plt\n"
   ]
  },
  {
   "cell_type": "code",
   "execution_count": 83,
   "id": "c34841cd",
   "metadata": {},
   "outputs": [
    {
     "name": "stdout",
     "output_type": "stream",
     "text": [
      "(0.0, 0.2) (0.0, 0.2)\n"
     ]
    },
    {
     "data": {
      "image/png": "[encoded data removed]",
      "text/plain": [
       "<Figure size 720x720 with 1 Axes>"
      ]
     },
     "metadata": {},
     "output_type": "display_data"
    }
   ],
   "source": [
    "# figure wrappers and canvas drawing functions\n",
    "def draw_canvas(height=10, width=10):\n",
    "    \"\"\"Wrapper function to return a figure\"\"\"\n",
    "    fig = plt.figure(figsize=(width, height), \n",
    "                        facecolor='white', edgecolor='black')\n",
    "    ax = fig.add_subplot(1, 1, 1)\n",
    "    ax.axes.xaxis.set_visible(False)\n",
    "    ax.axes.yaxis.set_visible(False)\n",
    "    return fig, ax\n",
    "\n",
    "def select_subregion(fig, section, nrows=5, ncols=5):\n",
    "    \"\"\"Splits each canvas into square rastered portions and returns limits of one of them.\"\"\"\n",
    "    row_chunk_size = 1/nrows # think this is continuous\n",
    "    col_chunk_size = 1/ncols\n",
    "    row =  section // ncols\n",
    "    col = section % ncols\n",
    "    rowSpan = (row_chunk_size * row, row_chunk_size*(row+1))\n",
    "    colSpan = (col_chunk_size * col, col_chunk_size*(col+1))\n",
    "    return rowSpan, colSpan\n",
    "\n",
    "def draw_rectangle(ax, rowSpan, colSpan, fill=True, color='k', padding=0.02):\n",
    "    \"\"\"Takes a figure axis and position, and draws a rectangle there. Converts to matrix-style positioning\"\"\"\n",
    "    r = plt.Rectangle((colSpan[0] + padding, (1-rowSpan[1]+padding)),\n",
    "                      colSpan[1] - colSpan[0] - 2*padding,\n",
    "                      rowSpan[1] - rowSpan[0] - 2*padding,\n",
    "                      fill=fill, fc=color) # first arguments are bottom left hand corner, then width, THEN height\n",
    "    ax.add_patch(r)\n",
    "    plt.show()\n",
    "    \n",
    "def draw_circle(ax, rowSpan, colSpan, fill=True, color='k', padding=0.02):\n",
    "    \"\"\"Takes a figure axis and position, and draws a circle there. Converts to matrix positioning\"\"\"\n",
    "    c = plt.Circle((np.mean(colSpan), 1-np.mean(rowSpan)), \n",
    "                   radius=((rowSpan[1]-rowSpan[0])/2) - padding,\n",
    "                  fill=fill, fc=color)\n",
    "    ax.add_patch(c)\n",
    "    plt.show()\n",
    "\n",
    "def draw_triangle(ax, rowSpan, colSpan, fill=True, color='k', padding=0.02, invert=True):\n",
    "    \"\"\"Takes a figure axis and position, and draws a triangle there. Converts to matrix positioning\"\"\"\n",
    "    # haven't done padding yet\n",
    "    if invert:\n",
    "        top = 1-rowSpan[0] - padding\n",
    "        bottom = 1-rowSpan[1] + padding\n",
    "    else:\n",
    "        top = 1-rowSpan[1] + padding\n",
    "        bottom = 1-rowSpan[0] - padding\n",
    "    point_0 = (colSpan[0]+padding, top)\n",
    "    point_1 = (np.mean(colSpan), bottom)\n",
    "    point_2 = (colSpan[1]-padding, top)\n",
    "    \n",
    "    t = plt.Polygon((point_0, point_1, point_2),\n",
    "                  closed=fill, fc=color)\n",
    "    ax.add_patch(t)\n",
    "    plt.show()\n",
    "\n",
    "\n",
    "def draw_cross(ax, rowSpan, colSpan, fill=True, color='k', padding=0.02):\n",
    "    \"\"\"Takes a figure axis and position, and draws a triangle there. Converts to matrix positioning\"\"\"\n",
    "    third_length = (rowSpan[1] - rowSpan[0] - 2*padding) / 3\n",
    "    third_height = (colSpan[1] - colSpan[0] - 2*padding) / 3\n",
    "    point_0 = (colSpan[0] + padding, 1-rowSpan[1] + padding + 2* third_height)\n",
    "    point_1 = (colSpan[0] + padding + third_length, 1-rowSpan[1] + padding + 2* third_height)\n",
    "    point_2 = (colSpan[0] + padding + third_length, 1-rowSpan[0] - padding)\n",
    "    point_3 = (colSpan[0] + padding + 2*third_length, 1-rowSpan[0] - padding)\n",
    "    point_4 = (colSpan[0] + padding + 2*third_length, 1-rowSpan[1] + padding + 2* third_height)\n",
    "    point_5 = (colSpan[0] + padding + 3*third_length, 1-rowSpan[1] + padding + 2* third_height)\n",
    "    point_6 = (colSpan[0] + padding + 3*third_length, 1-rowSpan[1] + padding + third_height)\n",
    "    point_7 = (colSpan[0] + padding + 2*third_length, 1-rowSpan[1] + padding + third_height)\n",
    "    point_8 = (colSpan[0] + padding + 2*third_length, 1-rowSpan[1] + padding)\n",
    "    point_9 = (colSpan[0] + padding + third_length, 1-rowSpan[1] + padding)\n",
    "    point_10 = (colSpan[0] + padding + third_length, 1-rowSpan[1] + padding + third_height)\n",
    "    point_11 = (colSpan[0] + padding, 1-rowSpan[1] + padding + third_height)\n",
    "    \n",
    "    cr = plt.Polygon((point_0, point_1, point_2, point_3, point_4, point_5, point_6, \n",
    "                      point_7, point_8, point_9, point_10, point_11),\n",
    "                  closed=fill, fc=color)\n",
    "    ax.add_patch(cr)\n",
    "    plt.show()\n",
    "    \n",
    "f, ax = draw_canvas()\n",
    "rS, cS = select_subregion(f, 0)\n",
    "print(rS, cS)\n",
    "draw_cross(ax, rS, cS)\n"
   ]
  },
  {
   "cell_type": "code",
   "execution_count": null,
   "id": "dae32b80",
   "metadata": {},
   "outputs": [],
   "source": []
  }
 ],
 "metadata": {
  "kernelspec": {
   "display_name": "Python 3 (ipykernel)",
   "language": "python",
   "name": "python3"
  },
  "language_info": {
   "codemirror_mode": {
    "name": "ipython",
    "version": 3
   },
   "file_extension": ".py",
   "mimetype": "text/x-python",
   "name": "python",
   "nbconvert_exporter": "python",
   "pygments_lexer": "ipython3",
   "version": "3.9.7"
  }
 },
 "nbformat": 4,
 "nbformat_minor": 5
}
