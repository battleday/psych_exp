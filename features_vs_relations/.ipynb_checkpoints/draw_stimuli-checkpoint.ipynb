{
 "cells": [
  {
   "cell_type": "code",
   "execution_count": 1,
   "id": "b0c19609",
   "metadata": {},
   "outputs": [],
   "source": [
    "%matplotlib inline \n",
    "import numpy as np\n",
    "import matplotlib.pyplot as plt\n"
   ]
  },
  {
   "cell_type": "code",
   "execution_count": 35,
   "id": "9a652eb0",
   "metadata": {},
   "outputs": [
    {
     "name": "stdout",
     "output_type": "stream",
     "text": [
      "(0.8, 1.0) (0.8, 1.0)\n"
     ]
    },
    {
     "data": {
      "image/png": "[encoded data removed]",
      "text/plain": [
       "<Figure size 720x720 with 1 Axes>"
      ]
     },
     "metadata": {},
     "output_type": "display_data"
    }
   ],
   "source": [
    "# figure wrappers and canvas drawing functions\n",
    "def draw_canvas(height=10, width=10):\n",
    "    \"\"\"Wrapper function to return a figure\"\"\"\n",
    "    fig = plt.figure(figsize=(width, height), \n",
    "                        facecolor='white', edgecolor='black')\n",
    "    ax = fig.add_subplot(1, 1, 1)\n",
    "    ax.axes.xaxis.set_visible(False)\n",
    "    ax.axes.yaxis.set_visible(False)\n",
    "    return fig, ax\n",
    "\n",
    "def select_subregion(fig, section, nrows=5, ncols=5):\n",
    "    \"\"\"Splits each canvas into square rastered portions and returns limits of one of them.\"\"\"\n",
    "    row_chunk_size = 1/nrows # think this is continuous\n",
    "    col_chunk_size = 1/ncols\n",
    "    row =  section // ncols\n",
    "    col = section % ncols\n",
    "    rowSpan = (row_chunk_size * row, row_chunk_size*(row+1))\n",
    "    colSpan = (col_chunk_size * col, col_chunk_size*(col+1))\n",
    "    return rowSpan, colSpan\n",
    "\n",
    "def draw_rectangle(ax, rowSpan, colSpan, fill=True, color='k', padding=0.02):\n",
    "    \"\"\"Takes a figure axis and position, and draws a rectangle there. Converts to matrix-style positioning\"\"\"\n",
    "    r = plt.Rectangle((colSpan[0] + padding, (1-rowSpan[1]+padding)),\n",
    "                      colSpan[1] - colSpan[0] - 2*padding,\n",
    "                      rowSpan[1] - rowSpan[0] - 2*padding,\n",
    "                      fill=fill, fc=color) # first arguments are bottom left hand corner, then width, THEN height\n",
    "    ax.add_patch(r)\n",
    "    plt.show()\n",
    "    \n",
    "def draw_circle(ax, rowSpan, colSpan, fill=True, color='k', padding=0.02):\n",
    "    \"\"\"Takes a figure axis and position, and draws a rectangle there. Converts to matrix positioning\"\"\"\n",
    "    c = plt.Circle((np.mean(colSpan), 1-np.mean(rowSpan)), \n",
    "                   radius=((rowSpan[1]-rowSpan[0])/2) - padding,\n",
    "                  fill=fill, fc=color)\n",
    "    ax.add_patch(c)\n",
    "    plt.show()\n",
    "    \n",
    "\n",
    "f, ax = draw_canvas()\n",
    "rS, cS = select_subregion(f, 0)\n",
    "print(rS, cS)\n",
    "draw_circle(ax, rS, cS)\n"
   ]
  },
  {
   "cell_type": "code",
   "execution_count": null,
   "id": "df95366c",
   "metadata": {},
   "outputs": [],
   "source": []
  }
 ],
 "metadata": {
  "kernelspec": {
   "display_name": "Python 3 (ipykernel)",
   "language": "python",
   "name": "python3"
  },
  "language_info": {
   "codemirror_mode": {
    "name": "ipython",
    "version": 3
   },
   "file_extension": ".py",
   "mimetype": "text/x-python",
   "name": "python",
   "nbconvert_exporter": "python",
   "pygments_lexer": "ipython3",
   "version": "3.9.7"
  }
 },
 "nbformat": 4,
 "nbformat_minor": 5
}
